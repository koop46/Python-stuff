{
 "cells": [
  {
   "cell_type": "code",
   "execution_count": 1,
   "id": "5a654d16-a49a-4a0e-a86c-3fbb7327a011",
   "metadata": {
    "tags": []
   },
   "outputs": [],
   "source": [
    "import re\n",
    "import numpy as np\n",
    "import pandas as pd\n",
    "import matplotlib.pyplot as plt\n",
    "import ipywidgets as ipw\n",
    "from ipywidgets import interact, Layout, IntSlider, IntText\n",
    "\n",
    "\n",
    "xl = 'income.xlsx'\n",
    "df = pd.read_excel(xl)\n",
    "\n",
    "\n",
    "ink_intervall, ink_klasser, klass_storlek, klass_index, guzzar, grabbar  = ([] for i in range(6)) #initializear tomma listor för 6 variabler\n",
    "åld_grupp, less_you, more_you, lägre_klass, procent, topp = 0,0,0,0,0,0\n",
    "\n",
    "########################################################################\n",
    "###########################  Data Frame  ###############################\n",
    "########################################################################\n",
    "\n",
    "tot_bef = df.iloc[3:88,8,].tolist()\n",
    "alla_inkomster = df.iloc[173:2298,8,].tolist()\n",
    "aguzzi = df.iloc[173:2298,6,].tolist()\n",
    "agrabi = df.iloc[173:2298,4,].tolist()\n",
    "åldrar = df.iloc[3:88,1,].tolist()\n",
    "\n",
    "\n",
    "df1, gudf, grdf = pd.DataFrame(), pd.DataFrame(), pd.DataFrame()\n",
    "df1.index = gudf.index = grdf.index = åldrar\n",
    "\n",
    "\n",
    "#loopar och delar upp i inkomstklasser åldrar 16-100+, ersätter '..' med 0\n",
    "for c in range(0,len(alla_inkomster),85):\n",
    "    temp = [0 if alla_inkomster[c+cc] == '..' else alla_inkomster[c+cc] for cc in range(0,85)]\n",
    "    ink_klasser.append(temp)\n",
    "\n",
    "for c in range(0,len(aguzzi),85):\n",
    "    temp = [0 if aguzzi[c+cc] == '..' else aguzzi[c+cc] for cc in range(0,85)]\n",
    "    guzzar.append(temp)\n",
    "\n",
    "for c in range(0,len(aguzzi),85):\n",
    "    temp = [0 if agrabi[c+cc] == '..' else agrabi[c+cc] for cc in range(0,85)]\n",
    "    grabbar.append(temp)\n",
    "\n",
    "\n",
    "#loopar in data i kolumner & döper kolumner, lägger till sista kolumn & döper om manuellt & lägger till sista rad & döper om manuellt\n",
    "for (i,ii) in zip(list(range(0,400,20)), list(range(20))): df1[f\"\"\"{i}-{i+19} tkr\"\"\" ] = ink_klasser[ii]\n",
    "for (i,ii) in zip(list(range(400,600,100)), list(range(20,22))): df1[f\"\"\"{i}-{i+99} tkr\"\"\" ] = ink_klasser[ii]\n",
    "for (i,ii) in zip(list(range(600,1000,200)), list(range(22,24))): df1[f\"\"\"{i}-{i+199} tkr\"\"\" ] = ink_klasser[ii]\n",
    "\n",
    "df1['1000+ tkr'] = ink_klasser[-1]\n",
    "df1.rename(columns = {'0-19 tkr':'1-19 tkr'}, inplace=True)\n",
    "klass_storlek = [ sum(i) for i in ink_klasser]\n",
    "df1.loc['Antal'] = klass_storlek\n",
    "\n",
    "\n",
    "for (i,ii) in zip(list(range(0,400,20)), list(range(20))): gudf[f\"\"\"{i}-{i+19} tkr\"\"\" ] = guzzar[ii]\n",
    "for (i,ii) in zip(list(range(400,600,100)), list(range(20,22))): gudf[f\"\"\"{i}-{i+99} tkr\"\"\" ] = guzzar[ii]\n",
    "for (i,ii) in zip(list(range(600,1000,200)), list(range(22,24))): gudf[f\"\"\"{i}-{i+199} tkr\"\"\" ] = guzzar[ii]\n",
    "\n",
    "gudf['1000+ tkr'] = guzzar[-1]\n",
    "gudf.rename(columns = {'0-19 tkr':'1-19 tkr'}, inplace=True)\n",
    "guzz_storlek = [ sum(i) for i in guzzar]\n",
    "gudf.loc['Antal'] = guzz_storlek\n",
    "\n",
    "\n",
    "for (i,ii) in zip(list(range(0,400,20)), list(range(20))): grdf[f\"\"\"{i}-{i+19} tkr\"\"\" ] = grabbar[ii]\n",
    "for (i,ii) in zip(list(range(400,600,100)), list(range(20,22))): grdf[f\"\"\"{i}-{i+99} tkr\"\"\" ] = grabbar[ii]\n",
    "for (i,ii) in zip(list(range(600,1000,200)), list(range(22,24))): grdf[f\"\"\"{i}-{i+199} tkr\"\"\" ] = grabbar[ii]\n",
    "\n",
    "grdf['1000+ tkr'] = grabbar[-1]\n",
    "grdf.rename(columns = {'0-19 tkr':'1-19 tkr'}, inplace=True)\n",
    "grabb_storlek = [ sum(i) for i in grabbar]\n",
    "grdf.loc['Antal'] = grabb_storlek\n",
    "\n"
   ]
  },
  {
   "cell_type": "code",
   "execution_count": 2,
   "id": "f227df51-0091-4225-badf-bbdbd3c8d7d1",
   "metadata": {},
   "outputs": [],
   "source": [
    "########################################################################\n",
    "###########################  Input  ####################################\n",
    "########################################################################\n",
    "\n",
    "\n",
    "def löne_index(m_lön):\n",
    "    \n",
    "    \n",
    "    global ink_intervall\n",
    "\n",
    "    års_inkomst = m_lön*12\n",
    "\n",
    "    \n",
    "    #splitar index kolumnnamn med re.split(), filtrerar bort '' + omvandlar till int i ny lista\n",
    "    for cols in df1:\n",
    "        ink_range = list(filter(None, re.split(\"-| tkr|\\+ tkr| [\\s_+]| \", cols)))\n",
    "\n",
    "\n",
    "        if len(ink_range) == 1: #testar om superrik\n",
    "            ink_intervall = '1000+ tkr' #hitta inkomstintervall\n",
    "            break\n",
    "\n",
    "        elif int(ink_range[0]) <= års_inkomst < int(ink_range[1]): #letar upp intervall\n",
    "            ink_intervall = f\"\"\"{ink_range[0]}-{ink_range[1]} tkr\"\"\" \n",
    "            break\n",
    "\n",
    "            \n",
    "    klass_index = df1.columns.get_loc(ink_intervall) #hitta intervall index\n",
    "    return klass_index\n",
    "\n",
    "\n",
    "def curiosa(m_lön, ålder):\n",
    "\n",
    "    \n",
    "    global less_you, more_you, procent, topp, åld_grupp, lägre_klass\n",
    "    t1,t2,t3 = 0,0,0\n",
    "     \n",
    "        \n",
    "    klass_index = löne_index(m_lön)\n",
    "    åld_grupp = df1.iat[ålder-16, klass_index]\n",
    "\n",
    "    \n",
    "    for a in range(0, klass_index): t1 += klass_storlek[a] #summera storleken\n",
    "    for b in range(0,klass_index): t2 += df1.iat[ålder-16,b] #summerar alla i åldern som tjänar mindre\n",
    "    for c in range(klass_index+1, 25): t3 += df1.iat[ålder-16,c] #summerar alla i åldern som tjänar mindre\n",
    "\n",
    "    \n",
    "    lägre_klass, less_you, more_you = t1,t2,t3    \n",
    "    procent = lägre_klass/sum(tot_bef)*100\n",
    "    topp = 100-procent\n",
    "\n"
   ]
  },
  {
   "cell_type": "code",
   "execution_count": 3,
   "id": "e0c191ef-84c4-4df6-97c3-6922f19cb6d4",
   "metadata": {},
   "outputs": [],
   "source": [
    "def textruta():\n",
    "\n",
    "    \n",
    "    p1 = (f\"\"\"\n",
    "    Inkomstklass: {ink_intervall}/år.\n",
    "    \n",
    "    Topp {topp:.1f}% av inkomsttagare.\n",
    "    \"\"\" )\n",
    "\n",
    "    return p1\n"
   ]
  },
  {
   "cell_type": "code",
   "execution_count": 50,
   "id": "0e3e6889-e89f-407a-8ecf-599ed8312688",
   "metadata": {},
   "outputs": [],
   "source": [
    "\n",
    "########################################################################\n",
    "###########################  Output  ###################################\n",
    "########################################################################\n",
    "\n",
    "\n",
    "\n",
    "def visualisering(Ålder,klass_index):\n",
    "\n",
    "    p = textruta()\n",
    "        \n",
    "    #väljer den högsta av inkomsterklasser, färglägger kolumner\n",
    "    topp_klass = max(df1.iloc[Ålder-16,:].tolist()) #högst värdet på listan\n",
    "    riket = df1.iloc[85,:]         #graf för hela riket\n",
    "    stolpar = df1.iloc[Ålder-16,:] #ålder, x=inkomstklass koordinater\n",
    "    colors = [f\"b\" for i in range(25)]\n",
    "    colors[klass_index] = 'g'\n",
    "\n",
    "    \n",
    "    plt.text(5,topp_klass*0.75, p, fontsize=12,\n",
    "            bbox = dict(facecolor = 'white', alpha=0.5))\n",
    "\n",
    "    bakgrund = stolpar.T.plot.bar(color = colors,figsize=(15,5)); #23,7\n",
    "    bakgrund.set_facecolor('black')\n",
    "    \n",
    "    plt.ylabel('Antal personer i inkomstklass')\n",
    "    \n",
    "    \n",
    "    ##Subplots\n",
    "    fig, [ax1, ax2] = plt.subplots(nrows=1, ncols=2, figsize=(15.25,6))   #   25,10 \n",
    "    \n",
    "    riket.T.plot.barh(ax=ax1, color = colors);#,figsize=(24,7));\n",
    "    ax1.set_xticklabels(['0','0.2 Mil.','0.4 Mil.','0.6 Mil.','0.8 Mil.','1 Mil.'])\n",
    "\n",
    "    ax1.spines['right'].set_visible(False)\n",
    "    ax1.spines['top'].set_visible(False)\n",
    "    ax1.set_title('\\nInkomsttagare per inkomstklass för hela riket\\n')\n",
    "    for i,v in enumerate(riket):ax1.text(v, i, f'''{v:,}''', color='black', fontweight='bold', fontsize=9, ha='left', va='center')\n",
    "    \n",
    "    \n",
    "    ax2.pie([åld_grupp,less_you,more_you], explode = [0.1,0,0],            #pie chart\n",
    "            autopct = '%1.1f%%', startangle = 130, radius=1, shadow = True, colors = ['g','orangered','royalblue'])    \n",
    "    plt.legend(title = f'''Födda {2022-Ålder}''',\n",
    "               labels=[f'''{åld_grupp:,} tjänar lika mycket''', f'''{less_you:,} tjänar mindre''', f'''{more_you:,} tjänar mer'''], loc='lower right')\n",
    "    \n",
    "    \n",
    "    plt.show()\n"
   ]
  },
  {
   "cell_type": "code",
   "execution_count": 51,
   "id": "942fb1a1-adfc-4c59-ae36-9fbf1f0c6388",
   "metadata": {
    "tags": []
   },
   "outputs": [
    {
     "data": {
      "application/vnd.jupyter.widget-view+json": {
       "model_id": "5a89c4dc0cc94f5a9216ffac9d3bc39f",
       "version_major": 2,
       "version_minor": 0
      },
      "text/plain": [
       "interactive(children=(IntText(value=34, description='Ålder:', layout=Layout(width='140px')), IntText(value=35,…"
      ]
     },
     "metadata": {},
     "output_type": "display_data"
    }
   ],
   "source": [
    "def parametrar(Ålder,Månadslön):\n",
    "\n",
    "    if 16 <= Ålder <= 100 and 1 <= Månadslön <= 100:\n",
    "\n",
    "        curiosa(Månadslön, Ålder)\n",
    "        index = löne_index(Månadslön)\n",
    "        visualisering(Ålder, index)\n",
    "\n",
    "    else:\n",
    "        print(f\"\"\"\n",
    "        Åldrar måste vara 16-100 och månadslön 1-100\n",
    "        \"\"\")\n",
    "\n",
    "\n",
    "interact(parametrar, Månadslön = IntText(35, description = 'Månadslön (tkr):', style = {'description_width': 'initial'}, layout=Layout(width='155px')),\n",
    "               Ålder = IntText(34, description = 'Ålder:', layout=Layout(width='140px')));\n"
   ]
  },
  {
   "cell_type": "code",
   "execution_count": 54,
   "id": "82d1fbf6-dd43-419d-85b6-1ad43d38308a",
   "metadata": {
    "tags": []
   },
   "outputs": [
    {
     "data": {
      "image/png": "[encoded data removed]",
      "text/plain": [
       "<Figure size 640x480 with 1 Axes>"
      ]
     },
     "metadata": {},
     "output_type": "display_data"
    }
   ],
   "source": [
    "\n",
    "age = 34\n",
    "pay = 24\n",
    "\n",
    "fig, ax = plt.subplots()\n",
    "ind = np.arange(3)   #3 kolumner\n",
    "koln = grdf.columns\n",
    "\n",
    "if 16 <= age <= 100 and 1 <= pay <= 22:    \n",
    "\n",
    "    men = grdf.iloc[age-16,pay-1:pay+2].tolist()\n",
    "    women = gudf.iloc[age-16,pay-1:pay+2].tolist()\n",
    "    ax.set_title(f'''Antal män & kvinnor per inkomstklass födda {2022-age}''')\n",
    "    ax.set_xticks(ind, labels=[koln[pay-1], koln[pay], koln[pay+1]])\n",
    "\n",
    "else:\n",
    "\n",
    "    men = grdf.iloc[age-16,22:25].tolist()\n",
    "    women = gudf.iloc[age-16,22:25].tolist()\n",
    "    ax.set_title(f'''Antal män & kvinnor per inkomstklass födda {2022-age}''')\n",
    "    ax.set_xticks(ind, labels=[koln[22], koln[23], koln[24]])\n",
    "\n",
    "p1 = ax.bar(ind, men, bottom=women, color='cornflowerblue')\n",
    "p2 = ax.bar(ind, women, color='pink') #0.35 är bredd\n",
    "ax.bar_label(p2, label_type='center')\n",
    "ax.bar_label(p1, label_type='center')\n",
    "ax.bar_label(p1)\n",
    "\n",
    "plt.show()\n",
    "\n"
   ]
  },
  {
   "cell_type": "code",
   "execution_count": 4,
   "id": "de26bb60-2171-406d-8f7e-3ece19508247",
   "metadata": {
    "collapsed": true,
    "jupyter": {
     "outputs_hidden": true,
     "source_hidden": true
    },
    "tags": []
   },
   "outputs": [
    {
     "data": {
      "application/vnd.jupyter.widget-view+json": {
       "model_id": "cba614e1b37147bfa4aec1426490ab74",
       "version_major": 2,
       "version_minor": 0
      },
      "text/plain": [
       "interactive(children=(IntSlider(value=34, description='Ålder', layout=Layout(width='500px'), min=16), IntSlide…"
      ]
     },
     "metadata": {},
     "output_type": "display_data"
    }
   ],
   "source": [
    "\n",
    "########################################################################\n",
    "#############################  Execute  ################################\n",
    "########################################################################\n",
    "\n",
    "\n",
    "def stapel(Ålder, Månadslön):\n",
    "    \n",
    "    curiosa(Månadslön, Ålder)\n",
    "    index = löne_index(Månadslön)\n",
    "    visualisering(Ålder, index)\n",
    "\n",
    "\n",
    "interact(stapel, Månadslön = IntSlider(36,1,100,1,layout=Layout(width='500px')),\n",
    "               Ålder = IntSlider(34,16,100,1,layout=Layout(width='500px')));\n"
   ]
  },
  {
   "cell_type": "code",
   "execution_count": null,
   "id": "27d9f764-212c-45c5-97bf-13025c2eb180",
   "metadata": {
    "collapsed": true,
    "jupyter": {
     "outputs_hidden": true,
     "source_hidden": true
    },
    "tags": []
   },
   "outputs": [
    {
     "data": {
      "application/vnd.jupyter.widget-view+json": {
       "model_id": "b963426b2cac433aa91c5b010763cd57",
       "version_major": 2,
       "version_minor": 0
      },
      "text/plain": [
       "interactive(children=(IntSlider(value=34, description='Ålder', layout=Layout(width='500px'), min=16), IntSlide…"
      ]
     },
     "metadata": {},
     "output_type": "display_data"
    }
   ],
   "source": [
    "#import ipywidgets as ipw\n",
    "#from ipywidgets import interact, Layout, IntSlider\n",
    "\n",
    "\n",
    "\n",
    "#@interact( Månadslön = (1,100), Ålder = (16,100))\n",
    "#def graf(Ålder, Månadslön):\n",
    " #   pass\n",
    "\n",
    "\n",
    "#interact(graf, Månadslön=IntSlider(50,10,100,1,layout=Layout(width='500px')), Ålder=IntSlider(0,25,100,1,layout=Layout(width='500px')));\n",
    "\n",
    "\n",
    "def stapel(Ålder, Månadslön):\n",
    "    \n",
    "    curiosa(Månadslön, Ålder)\n",
    "    index = löne_index(Månadslön)\n",
    "    visualisering(Ålder, index)\n",
    "\n",
    "\n",
    "\n",
    "\n",
    "interact(stapel, Månadslön = IntSlider(36,1,100,1,layout=Layout(width='500px')),\n",
    "               Ålder = IntSlider(34,16,100,1,layout=Layout(width='500px')));\n"
   ]
  },
  {
   "cell_type": "code",
   "execution_count": null,
   "id": "6e904c8e-ac8c-4ea2-97d8-8828dbf1743d",
   "metadata": {
    "jupyter": {
     "source_hidden": true
    },
    "tags": []
   },
   "outputs": [],
   "source": [
    "åldrar = df.iloc[3:88,1,].tolist()\n",
    "aguzzi = df.iloc[173:2298,6,].tolist()\n",
    "agrabi = df.iloc[173:2298,4,].tolist()\n",
    "\n",
    "\n",
    "guzzar, grabbar = [], []\n",
    "\n",
    "\n",
    "for c in range(0,len(aguzzi),85):\n",
    "    temp = [0 if aguzzi[c+cc] == '..' else aguzzi[c+cc] for cc in range(0,85)]\n",
    "    guzzar.append(temp)\n",
    "\n",
    "for c in range(0,len(aguzzi),85):\n",
    "    temp = [0 if agrabi[c+cc] == '..' else agrabi[c+cc] for cc in range(0,85)]\n",
    "    grabbar.append(temp)\n",
    "\n",
    "\n",
    "gzdf = grdf = pd.DataFrame()\n",
    "#grdf = pd.DataFrame()\n",
    "gzdf.index = grdf.index = åldrar\n",
    "#grdf.index = åldrar\n",
    "\n",
    "    \n",
    "for (i,ii) in zip(list(range(0,400,20)), list(range(20))): gzdf[f\"\"\"{i}-{i+19} tkr\"\"\" ] = guzzar[ii]\n",
    "for (i,ii) in zip(list(range(400,600,100)), list(range(20,22))): gzdf[f\"\"\"{i}-{i+99} tkr\"\"\" ] = guzzar[ii]\n",
    "for (i,ii) in zip(list(range(600,1000,200)), list(range(22,24))): gzdf[f\"\"\"{i}-{i+199} tkr\"\"\" ] = guzzar[ii]\n",
    "\n",
    "for (i,ii) in zip(list(range(0,400,20)), list(range(20))): grdf[f\"\"\"{i}-{i+19} tkr\"\"\" ] = grabbar[ii]\n",
    "for (i,ii) in zip(list(range(400,600,100)), list(range(20,22))): grdf[f\"\"\"{i}-{i+99} tkr\"\"\" ] = grabbar[ii]\n",
    "for (i,ii) in zip(list(range(600,1000,200)), list(range(22,24))): grdf[f\"\"\"{i}-{i+199} tkr\"\"\" ] = grabbar[ii]\n",
    "\n",
    "\n",
    "\n",
    "#lägger till sista kolumn & döper om manuellt\n",
    "gzdf['1000+ tkr'] = guzzar[-1]\n",
    "gzdf.rename(columns = {'0-19 tkr':'1-19 tkr'}, inplace=True)\n",
    "\n",
    "grdf['1000+ tkr'] = grabbar[-1]\n",
    "grdf.rename(columns = {'0-19 tkr':'1-19 tkr'}, inplace=True)\n",
    "\n",
    "\n",
    "guzz_storlek = [ sum(i) for i in guzzar]\n",
    "gzdf.loc['Antal'] = guzz_storlek\n",
    "\n",
    "grabb_storlek = [ sum(i) for i in grabbar]\n",
    "grdf.loc['Antal'] = grabb_storlek\n",
    "\n",
    "\n",
    "grdf\n",
    "\n"
   ]
  },
  {
   "cell_type": "code",
   "execution_count": null,
   "id": "38082c26-3124-4af8-8cbe-059fda59aa0f",
   "metadata": {},
   "outputs": [],
   "source": []
  }
 ],
 "metadata": {
  "kernelspec": {
   "display_name": "Python 3 (ipykernel)",
   "language": "python",
   "name": "python3"
  },
  "language_info": {
   "codemirror_mode": {
    "name": "ipython",
    "version": 3
   },
   "file_extension": ".py",
   "mimetype": "text/x-python",
   "name": "python",
   "nbconvert_exporter": "python",
   "pygments_lexer": "ipython3",
   "version": "3.9.2"
  }
 },
 "nbformat": 4,
 "nbformat_minor": 5
}
